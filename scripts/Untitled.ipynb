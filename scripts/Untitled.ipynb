{
 "cells": [
  {
   "cell_type": "code",
   "execution_count": 1,
   "metadata": {},
   "outputs": [],
   "source": [
    "import os\n",
    "import sys\n",
    "import arff\n",
    "import matplotlib.pyplot as plt\n",
    "import numpy as np"
   ]
  },
  {
   "cell_type": "code",
   "execution_count": 58,
   "metadata": {},
   "outputs": [],
   "source": [
    "instance = sys.argv[1]\n",
    "directory = os.path.dirname(instance)"
   ]
  },
  {
   "cell_type": "code",
   "execution_count": 62,
   "metadata": {},
   "outputs": [],
   "source": [
    "file = arff.load(open(instance, 'r'))\n",
    "data = np.array(file['data'])\n",
    "attributes = file['attributes']\n",
    "os.mkdir(directory + '/boxplots')"
   ]
  },
  {
   "cell_type": "code",
   "execution_count": 67,
   "metadata": {},
   "outputs": [
    {
     "name": "stdout",
     "output_type": "stream",
     "text": [
      "0 sepallength REAL\n",
      "../data/boxplots/sepallength.png\n"
     ]
    },
    {
     "name": "stderr",
     "output_type": "stream",
     "text": [
      "/home/linuxbrew/.linuxbrew/opt/python/lib/python3.7/site-packages/matplotlib/pyplot.py:513: RuntimeWarning: More than 20 figures have been opened. Figures created through the pyplot interface (`matplotlib.pyplot.figure`) are retained until explicitly closed and may consume too much memory. (To control this warning, see the rcParam `figure.max_open_warning`).\n",
      "  max_open_warning, RuntimeWarning)\n"
     ]
    },
    {
     "name": "stdout",
     "output_type": "stream",
     "text": [
      "1 sepalwidth REAL\n",
      "../data/boxplots/sepalwidth.png\n",
      "2 petallength REAL\n",
      "../data/boxplots/petallength.png\n",
      "3 petalwidth REAL\n",
      "../data/boxplots/petalwidth.png\n",
      "4 class ['Iris-setosa', 'Iris-versicolor', 'Iris-virginica']\n",
      "../data/boxplots/all.png\n"
     ]
    }
   ],
   "source": [
    "all = []\n",
    "for (i, (a, t)) in enumerate(attributes): \n",
    "    print (i, a, t)\n",
    "    try:\n",
    "        d = data[:, i].astype(np.float)\n",
    "    except:\n",
    "        continue\n",
    "    all.append(d)\n",
    "    _, ax = plt.subplots()\n",
    "    ax.set_title(a)\n",
    "    ax.boxplot(d, showfliers=False)\n",
    "    print(directory + \"/boxplots/\" + a + \".png\")\n",
    "    plt.savefig(directory + \"/boxplots/\" + a + \".png\")\n",
    "\n",
    "_, ax = plt.subplots()\n",
    "ax.set_title(os.path.basename(instance))\n",
    "ax.boxplot(all, showfliers=False)\n",
    "print(directory + \"/boxplots/all.png\")\n",
    "plt.savefig(directory + \"/boxplots/all.png\")"
   ]
  },
  {
   "cell_type": "code",
   "execution_count": null,
   "metadata": {},
   "outputs": [],
   "source": []
  },
  {
   "cell_type": "code",
   "execution_count": null,
   "metadata": {},
   "outputs": [],
   "source": []
  }
 ],
 "metadata": {
  "kernelspec": {
   "display_name": "Python 3",
   "language": "python",
   "name": "python3"
  },
  "language_info": {
   "codemirror_mode": {
    "name": "ipython",
    "version": 3
   },
   "file_extension": ".py",
   "mimetype": "text/x-python",
   "name": "python",
   "nbconvert_exporter": "python",
   "pygments_lexer": "ipython3",
   "version": "3.7.0"
  }
 },
 "nbformat": 4,
 "nbformat_minor": 2
}
